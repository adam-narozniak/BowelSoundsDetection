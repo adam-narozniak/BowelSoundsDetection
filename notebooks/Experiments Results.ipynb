{
 "cells": [
  {
   "cell_type": "code",
   "execution_count": 184,
   "metadata": {
    "collapsed": true
   },
   "outputs": [],
   "source": [
    "import pandas as pd"
   ]
  },
  {
   "cell_type": "code",
   "execution_count": 185,
   "outputs": [],
   "source": [
    "results_path = \"./../results/experiments_results_final.csv\""
   ],
   "metadata": {
    "collapsed": false
   }
  },
  {
   "cell_type": "code",
   "execution_count": 186,
   "outputs": [],
   "source": [
    "results = pd.read_csv(results_path, index_col=0)"
   ],
   "metadata": {
    "collapsed": false
   }
  },
  {
   "cell_type": "code",
   "execution_count": 187,
   "outputs": [
    {
     "data": {
      "text/plain": "     bidirectional1  bidirectional2  bidirectional3  convolution_at_end  \\\n0                 1             1.0             1.0                   0   \n1                 0             0.0             0.0                   0   \n2                 0             NaN             NaN                   1   \n3                 1             0.0             NaN                   1   \n4                 1             0.0             1.0                   1   \n..              ...             ...             ...                 ...   \n195               0             1.0             NaN                   0   \n196               1             0.0             0.0                   1   \n197               0             1.0             NaN                   1   \n198               1             1.0             1.0                   1   \n199               0             1.0             NaN                   1   \n\n     dropout1  dropout2  dropout3  dropout_rate1  dropout_rate2  \\\n0           0       1.0       1.0            NaN           50.0   \n1           1       0.0       0.0           75.0            NaN   \n2           0       NaN       NaN            NaN            NaN   \n3           1       0.0       NaN           30.0            NaN   \n4           1       1.0       1.0           70.0           55.0   \n..        ...       ...       ...            ...            ...   \n195         1       1.0       NaN           75.0           70.0   \n196         0       1.0       1.0            NaN           30.0   \n197         0       0.0       NaN            NaN            NaN   \n198         0       1.0       0.0            NaN           30.0   \n199         0       1.0       NaN            NaN           60.0   \n\n     dropout_rate3  ...  accuracy  precision    recall       auc       TP  \\\n0             25.0  ...  0.964799   0.823564  0.681105  0.832855  1669.25   \n1              NaN  ...  0.961771   0.832663  0.618983  0.802439  1518.75   \n2              NaN  ...  0.961516   0.830137  0.614545  0.788674  3008.75   \n3              NaN  ...  0.963930   0.818213  0.673163  0.829267  3274.75   \n4             55.0  ...  0.962091   0.839076  0.615959  0.799309  1512.50   \n..             ...  ...       ...        ...       ...       ...      ...   \n195            NaN  ...  0.965025   0.820546  0.689492  0.831080  1685.75   \n196           65.0  ...  0.967095   0.820855  0.721587  0.859305  1769.25   \n197            NaN  ...  0.968566   0.823078  0.743447  0.856264  1823.00   \n198            NaN  ...  0.967779   0.821632  0.733344  0.860911  1796.75   \n199            NaN  ...  0.967671   0.834563  0.713588  0.856925  1747.25   \n\n           TN      FP       FN        f1  status  \n0    29325.00  353.50   777.25  0.746993      ok  \n1    29378.25  300.25   927.75  0.712109      ok  \n2    59077.75  606.25  1878.50  0.707754      ok  \n3    58658.00  725.25  1592.00  0.738658      ok  \n4    29394.75  283.75   934.00  0.712981      ok  \n..        ...     ...      ...       ...     ...  \n195  29315.75  362.75   760.75  0.750056      ok  \n196  29298.75  379.75   677.25  0.769992      ok  \n197  29292.25  386.25   623.50  0.783118      ok  \n198  29293.25  385.25   649.75  0.776385      ok  \n199  29339.25  339.25   699.25  0.770902      ok  \n\n[200 rows x 33 columns]",
      "text/html": "<div>\n<style scoped>\n    .dataframe tbody tr th:only-of-type {\n        vertical-align: middle;\n    }\n\n    .dataframe tbody tr th {\n        vertical-align: top;\n    }\n\n    .dataframe thead th {\n        text-align: right;\n    }\n</style>\n<table border=\"1\" class=\"dataframe\">\n  <thead>\n    <tr style=\"text-align: right;\">\n      <th></th>\n      <th>bidirectional1</th>\n      <th>bidirectional2</th>\n      <th>bidirectional3</th>\n      <th>convolution_at_end</th>\n      <th>dropout1</th>\n      <th>dropout2</th>\n      <th>dropout3</th>\n      <th>dropout_rate1</th>\n      <th>dropout_rate2</th>\n      <th>dropout_rate3</th>\n      <th>...</th>\n      <th>accuracy</th>\n      <th>precision</th>\n      <th>recall</th>\n      <th>auc</th>\n      <th>TP</th>\n      <th>TN</th>\n      <th>FP</th>\n      <th>FN</th>\n      <th>f1</th>\n      <th>status</th>\n    </tr>\n  </thead>\n  <tbody>\n    <tr>\n      <th>0</th>\n      <td>1</td>\n      <td>1.0</td>\n      <td>1.0</td>\n      <td>0</td>\n      <td>0</td>\n      <td>1.0</td>\n      <td>1.0</td>\n      <td>NaN</td>\n      <td>50.0</td>\n      <td>25.0</td>\n      <td>...</td>\n      <td>0.964799</td>\n      <td>0.823564</td>\n      <td>0.681105</td>\n      <td>0.832855</td>\n      <td>1669.25</td>\n      <td>29325.00</td>\n      <td>353.50</td>\n      <td>777.25</td>\n      <td>0.746993</td>\n      <td>ok</td>\n    </tr>\n    <tr>\n      <th>1</th>\n      <td>0</td>\n      <td>0.0</td>\n      <td>0.0</td>\n      <td>0</td>\n      <td>1</td>\n      <td>0.0</td>\n      <td>0.0</td>\n      <td>75.0</td>\n      <td>NaN</td>\n      <td>NaN</td>\n      <td>...</td>\n      <td>0.961771</td>\n      <td>0.832663</td>\n      <td>0.618983</td>\n      <td>0.802439</td>\n      <td>1518.75</td>\n      <td>29378.25</td>\n      <td>300.25</td>\n      <td>927.75</td>\n      <td>0.712109</td>\n      <td>ok</td>\n    </tr>\n    <tr>\n      <th>2</th>\n      <td>0</td>\n      <td>NaN</td>\n      <td>NaN</td>\n      <td>1</td>\n      <td>0</td>\n      <td>NaN</td>\n      <td>NaN</td>\n      <td>NaN</td>\n      <td>NaN</td>\n      <td>NaN</td>\n      <td>...</td>\n      <td>0.961516</td>\n      <td>0.830137</td>\n      <td>0.614545</td>\n      <td>0.788674</td>\n      <td>3008.75</td>\n      <td>59077.75</td>\n      <td>606.25</td>\n      <td>1878.50</td>\n      <td>0.707754</td>\n      <td>ok</td>\n    </tr>\n    <tr>\n      <th>3</th>\n      <td>1</td>\n      <td>0.0</td>\n      <td>NaN</td>\n      <td>1</td>\n      <td>1</td>\n      <td>0.0</td>\n      <td>NaN</td>\n      <td>30.0</td>\n      <td>NaN</td>\n      <td>NaN</td>\n      <td>...</td>\n      <td>0.963930</td>\n      <td>0.818213</td>\n      <td>0.673163</td>\n      <td>0.829267</td>\n      <td>3274.75</td>\n      <td>58658.00</td>\n      <td>725.25</td>\n      <td>1592.00</td>\n      <td>0.738658</td>\n      <td>ok</td>\n    </tr>\n    <tr>\n      <th>4</th>\n      <td>1</td>\n      <td>0.0</td>\n      <td>1.0</td>\n      <td>1</td>\n      <td>1</td>\n      <td>1.0</td>\n      <td>1.0</td>\n      <td>70.0</td>\n      <td>55.0</td>\n      <td>55.0</td>\n      <td>...</td>\n      <td>0.962091</td>\n      <td>0.839076</td>\n      <td>0.615959</td>\n      <td>0.799309</td>\n      <td>1512.50</td>\n      <td>29394.75</td>\n      <td>283.75</td>\n      <td>934.00</td>\n      <td>0.712981</td>\n      <td>ok</td>\n    </tr>\n    <tr>\n      <th>...</th>\n      <td>...</td>\n      <td>...</td>\n      <td>...</td>\n      <td>...</td>\n      <td>...</td>\n      <td>...</td>\n      <td>...</td>\n      <td>...</td>\n      <td>...</td>\n      <td>...</td>\n      <td>...</td>\n      <td>...</td>\n      <td>...</td>\n      <td>...</td>\n      <td>...</td>\n      <td>...</td>\n      <td>...</td>\n      <td>...</td>\n      <td>...</td>\n      <td>...</td>\n      <td>...</td>\n    </tr>\n    <tr>\n      <th>195</th>\n      <td>0</td>\n      <td>1.0</td>\n      <td>NaN</td>\n      <td>0</td>\n      <td>1</td>\n      <td>1.0</td>\n      <td>NaN</td>\n      <td>75.0</td>\n      <td>70.0</td>\n      <td>NaN</td>\n      <td>...</td>\n      <td>0.965025</td>\n      <td>0.820546</td>\n      <td>0.689492</td>\n      <td>0.831080</td>\n      <td>1685.75</td>\n      <td>29315.75</td>\n      <td>362.75</td>\n      <td>760.75</td>\n      <td>0.750056</td>\n      <td>ok</td>\n    </tr>\n    <tr>\n      <th>196</th>\n      <td>1</td>\n      <td>0.0</td>\n      <td>0.0</td>\n      <td>1</td>\n      <td>0</td>\n      <td>1.0</td>\n      <td>1.0</td>\n      <td>NaN</td>\n      <td>30.0</td>\n      <td>65.0</td>\n      <td>...</td>\n      <td>0.967095</td>\n      <td>0.820855</td>\n      <td>0.721587</td>\n      <td>0.859305</td>\n      <td>1769.25</td>\n      <td>29298.75</td>\n      <td>379.75</td>\n      <td>677.25</td>\n      <td>0.769992</td>\n      <td>ok</td>\n    </tr>\n    <tr>\n      <th>197</th>\n      <td>0</td>\n      <td>1.0</td>\n      <td>NaN</td>\n      <td>1</td>\n      <td>0</td>\n      <td>0.0</td>\n      <td>NaN</td>\n      <td>NaN</td>\n      <td>NaN</td>\n      <td>NaN</td>\n      <td>...</td>\n      <td>0.968566</td>\n      <td>0.823078</td>\n      <td>0.743447</td>\n      <td>0.856264</td>\n      <td>1823.00</td>\n      <td>29292.25</td>\n      <td>386.25</td>\n      <td>623.50</td>\n      <td>0.783118</td>\n      <td>ok</td>\n    </tr>\n    <tr>\n      <th>198</th>\n      <td>1</td>\n      <td>1.0</td>\n      <td>1.0</td>\n      <td>1</td>\n      <td>0</td>\n      <td>1.0</td>\n      <td>0.0</td>\n      <td>NaN</td>\n      <td>30.0</td>\n      <td>NaN</td>\n      <td>...</td>\n      <td>0.967779</td>\n      <td>0.821632</td>\n      <td>0.733344</td>\n      <td>0.860911</td>\n      <td>1796.75</td>\n      <td>29293.25</td>\n      <td>385.25</td>\n      <td>649.75</td>\n      <td>0.776385</td>\n      <td>ok</td>\n    </tr>\n    <tr>\n      <th>199</th>\n      <td>0</td>\n      <td>1.0</td>\n      <td>NaN</td>\n      <td>1</td>\n      <td>0</td>\n      <td>1.0</td>\n      <td>NaN</td>\n      <td>NaN</td>\n      <td>60.0</td>\n      <td>NaN</td>\n      <td>...</td>\n      <td>0.967671</td>\n      <td>0.834563</td>\n      <td>0.713588</td>\n      <td>0.856925</td>\n      <td>1747.25</td>\n      <td>29339.25</td>\n      <td>339.25</td>\n      <td>699.25</td>\n      <td>0.770902</td>\n      <td>ok</td>\n    </tr>\n  </tbody>\n</table>\n<p>200 rows × 33 columns</p>\n</div>"
     },
     "execution_count": 187,
     "metadata": {},
     "output_type": "execute_result"
    }
   ],
   "source": [
    "results"
   ],
   "metadata": {
    "collapsed": false
   }
  },
  {
   "cell_type": "code",
   "execution_count": 188,
   "outputs": [
    {
     "data": {
      "text/plain": "     bidirectional1  bidirectional2  bidirectional3  convolution_at_end  \\\n33                1             1.0             NaN                   1   \n39                1             1.0             NaN                   1   \n100               0             1.0             1.0                   1   \n95                0             1.0             1.0                   1   \n161               1             1.0             NaN                   1   \n..              ...             ...             ...                 ...   \n118               1             NaN             NaN                   1   \n15                0             0.0             0.0                   0   \n14                1             0.0             1.0                   0   \n18                1             0.0             0.0                   0   \n13                1             1.0             1.0                   0   \n\n     dropout1  dropout2  dropout3  dropout_rate1  dropout_rate2  \\\n33          0       1.0       NaN            NaN           70.0   \n39          0       1.0       NaN            NaN           40.0   \n100         0       1.0       1.0            NaN           70.0   \n95          0       1.0       1.0            NaN           65.0   \n161         0       1.0       NaN            NaN           55.0   \n..        ...       ...       ...            ...            ...   \n118         0       NaN       NaN            NaN            NaN   \n15          0       0.0       0.0            NaN            NaN   \n14          1       0.0       0.0           60.0            NaN   \n18          1       1.0       1.0           65.0           50.0   \n13          1       1.0       0.0           35.0           60.0   \n\n     dropout_rate3  ...  accuracy  precision    recall       auc       TP  \\\n33             NaN  ...  0.969928   0.812978  0.782264  0.876452  1918.00   \n39             NaN  ...  0.969928   0.825432  0.765808  0.877361  1872.50   \n100           65.0  ...  0.969882   0.825165  0.761608  0.868432  1867.50   \n95            40.0  ...  0.969327   0.813981  0.772146  0.874142  1893.50   \n161            NaN  ...  0.969710   0.824303  0.762373  0.877709  1864.75   \n..             ...  ...       ...        ...       ...       ...      ...   \n118            NaN  ...  0.953321   0.827926  0.481759  0.698097  2356.75   \n15             NaN  ...  0.949361   0.795652  0.440112  0.634599  2151.75   \n14             NaN  ...  0.938735   0.750882  0.279492  0.489163  1379.25   \n18            30.0  ...  0.938949   0.775104  0.265881  0.497543  1312.00   \n13             NaN  ...  0.931853   0.700699  0.171774  0.379504   845.75   \n\n           TN      FP       FN        f1  status  \n33   29241.00  437.50   528.50  0.798834      ok  \n39   29286.50  392.00   574.00  0.794948      ok  \n100  29290.00  388.50   579.00  0.794258      ok  \n95   29246.25  432.25   553.00  0.793546      ok  \n161  29287.25  391.25   581.75  0.793089      ok  \n..        ...     ...      ...       ...     ...  \n118  59200.75  483.25  2530.50  0.609984      ok  \n15   58845.00  538.25  2715.00  0.569491      ok  \n14   59236.50  447.50  3508.00  0.410858      ok  \n18   59317.50  366.50  3575.25  0.399650      ok  \n13   59325.75  358.25  4041.50  0.277693      ok  \n\n[200 rows x 33 columns]",
      "text/html": "<div>\n<style scoped>\n    .dataframe tbody tr th:only-of-type {\n        vertical-align: middle;\n    }\n\n    .dataframe tbody tr th {\n        vertical-align: top;\n    }\n\n    .dataframe thead th {\n        text-align: right;\n    }\n</style>\n<table border=\"1\" class=\"dataframe\">\n  <thead>\n    <tr style=\"text-align: right;\">\n      <th></th>\n      <th>bidirectional1</th>\n      <th>bidirectional2</th>\n      <th>bidirectional3</th>\n      <th>convolution_at_end</th>\n      <th>dropout1</th>\n      <th>dropout2</th>\n      <th>dropout3</th>\n      <th>dropout_rate1</th>\n      <th>dropout_rate2</th>\n      <th>dropout_rate3</th>\n      <th>...</th>\n      <th>accuracy</th>\n      <th>precision</th>\n      <th>recall</th>\n      <th>auc</th>\n      <th>TP</th>\n      <th>TN</th>\n      <th>FP</th>\n      <th>FN</th>\n      <th>f1</th>\n      <th>status</th>\n    </tr>\n  </thead>\n  <tbody>\n    <tr>\n      <th>33</th>\n      <td>1</td>\n      <td>1.0</td>\n      <td>NaN</td>\n      <td>1</td>\n      <td>0</td>\n      <td>1.0</td>\n      <td>NaN</td>\n      <td>NaN</td>\n      <td>70.0</td>\n      <td>NaN</td>\n      <td>...</td>\n      <td>0.969928</td>\n      <td>0.812978</td>\n      <td>0.782264</td>\n      <td>0.876452</td>\n      <td>1918.00</td>\n      <td>29241.00</td>\n      <td>437.50</td>\n      <td>528.50</td>\n      <td>0.798834</td>\n      <td>ok</td>\n    </tr>\n    <tr>\n      <th>39</th>\n      <td>1</td>\n      <td>1.0</td>\n      <td>NaN</td>\n      <td>1</td>\n      <td>0</td>\n      <td>1.0</td>\n      <td>NaN</td>\n      <td>NaN</td>\n      <td>40.0</td>\n      <td>NaN</td>\n      <td>...</td>\n      <td>0.969928</td>\n      <td>0.825432</td>\n      <td>0.765808</td>\n      <td>0.877361</td>\n      <td>1872.50</td>\n      <td>29286.50</td>\n      <td>392.00</td>\n      <td>574.00</td>\n      <td>0.794948</td>\n      <td>ok</td>\n    </tr>\n    <tr>\n      <th>100</th>\n      <td>0</td>\n      <td>1.0</td>\n      <td>1.0</td>\n      <td>1</td>\n      <td>0</td>\n      <td>1.0</td>\n      <td>1.0</td>\n      <td>NaN</td>\n      <td>70.0</td>\n      <td>65.0</td>\n      <td>...</td>\n      <td>0.969882</td>\n      <td>0.825165</td>\n      <td>0.761608</td>\n      <td>0.868432</td>\n      <td>1867.50</td>\n      <td>29290.00</td>\n      <td>388.50</td>\n      <td>579.00</td>\n      <td>0.794258</td>\n      <td>ok</td>\n    </tr>\n    <tr>\n      <th>95</th>\n      <td>0</td>\n      <td>1.0</td>\n      <td>1.0</td>\n      <td>1</td>\n      <td>0</td>\n      <td>1.0</td>\n      <td>1.0</td>\n      <td>NaN</td>\n      <td>65.0</td>\n      <td>40.0</td>\n      <td>...</td>\n      <td>0.969327</td>\n      <td>0.813981</td>\n      <td>0.772146</td>\n      <td>0.874142</td>\n      <td>1893.50</td>\n      <td>29246.25</td>\n      <td>432.25</td>\n      <td>553.00</td>\n      <td>0.793546</td>\n      <td>ok</td>\n    </tr>\n    <tr>\n      <th>161</th>\n      <td>1</td>\n      <td>1.0</td>\n      <td>NaN</td>\n      <td>1</td>\n      <td>0</td>\n      <td>1.0</td>\n      <td>NaN</td>\n      <td>NaN</td>\n      <td>55.0</td>\n      <td>NaN</td>\n      <td>...</td>\n      <td>0.969710</td>\n      <td>0.824303</td>\n      <td>0.762373</td>\n      <td>0.877709</td>\n      <td>1864.75</td>\n      <td>29287.25</td>\n      <td>391.25</td>\n      <td>581.75</td>\n      <td>0.793089</td>\n      <td>ok</td>\n    </tr>\n    <tr>\n      <th>...</th>\n      <td>...</td>\n      <td>...</td>\n      <td>...</td>\n      <td>...</td>\n      <td>...</td>\n      <td>...</td>\n      <td>...</td>\n      <td>...</td>\n      <td>...</td>\n      <td>...</td>\n      <td>...</td>\n      <td>...</td>\n      <td>...</td>\n      <td>...</td>\n      <td>...</td>\n      <td>...</td>\n      <td>...</td>\n      <td>...</td>\n      <td>...</td>\n      <td>...</td>\n      <td>...</td>\n    </tr>\n    <tr>\n      <th>118</th>\n      <td>1</td>\n      <td>NaN</td>\n      <td>NaN</td>\n      <td>1</td>\n      <td>0</td>\n      <td>NaN</td>\n      <td>NaN</td>\n      <td>NaN</td>\n      <td>NaN</td>\n      <td>NaN</td>\n      <td>...</td>\n      <td>0.953321</td>\n      <td>0.827926</td>\n      <td>0.481759</td>\n      <td>0.698097</td>\n      <td>2356.75</td>\n      <td>59200.75</td>\n      <td>483.25</td>\n      <td>2530.50</td>\n      <td>0.609984</td>\n      <td>ok</td>\n    </tr>\n    <tr>\n      <th>15</th>\n      <td>0</td>\n      <td>0.0</td>\n      <td>0.0</td>\n      <td>0</td>\n      <td>0</td>\n      <td>0.0</td>\n      <td>0.0</td>\n      <td>NaN</td>\n      <td>NaN</td>\n      <td>NaN</td>\n      <td>...</td>\n      <td>0.949361</td>\n      <td>0.795652</td>\n      <td>0.440112</td>\n      <td>0.634599</td>\n      <td>2151.75</td>\n      <td>58845.00</td>\n      <td>538.25</td>\n      <td>2715.00</td>\n      <td>0.569491</td>\n      <td>ok</td>\n    </tr>\n    <tr>\n      <th>14</th>\n      <td>1</td>\n      <td>0.0</td>\n      <td>1.0</td>\n      <td>0</td>\n      <td>1</td>\n      <td>0.0</td>\n      <td>0.0</td>\n      <td>60.0</td>\n      <td>NaN</td>\n      <td>NaN</td>\n      <td>...</td>\n      <td>0.938735</td>\n      <td>0.750882</td>\n      <td>0.279492</td>\n      <td>0.489163</td>\n      <td>1379.25</td>\n      <td>59236.50</td>\n      <td>447.50</td>\n      <td>3508.00</td>\n      <td>0.410858</td>\n      <td>ok</td>\n    </tr>\n    <tr>\n      <th>18</th>\n      <td>1</td>\n      <td>0.0</td>\n      <td>0.0</td>\n      <td>0</td>\n      <td>1</td>\n      <td>1.0</td>\n      <td>1.0</td>\n      <td>65.0</td>\n      <td>50.0</td>\n      <td>30.0</td>\n      <td>...</td>\n      <td>0.938949</td>\n      <td>0.775104</td>\n      <td>0.265881</td>\n      <td>0.497543</td>\n      <td>1312.00</td>\n      <td>59317.50</td>\n      <td>366.50</td>\n      <td>3575.25</td>\n      <td>0.399650</td>\n      <td>ok</td>\n    </tr>\n    <tr>\n      <th>13</th>\n      <td>1</td>\n      <td>1.0</td>\n      <td>1.0</td>\n      <td>0</td>\n      <td>1</td>\n      <td>1.0</td>\n      <td>0.0</td>\n      <td>35.0</td>\n      <td>60.0</td>\n      <td>NaN</td>\n      <td>...</td>\n      <td>0.931853</td>\n      <td>0.700699</td>\n      <td>0.171774</td>\n      <td>0.379504</td>\n      <td>845.75</td>\n      <td>59325.75</td>\n      <td>358.25</td>\n      <td>4041.50</td>\n      <td>0.277693</td>\n      <td>ok</td>\n    </tr>\n  </tbody>\n</table>\n<p>200 rows × 33 columns</p>\n</div>"
     },
     "execution_count": 188,
     "metadata": {},
     "output_type": "execute_result"
    }
   ],
   "source": [
    "results.sort_values(\"f1\", ascending=False)"
   ],
   "metadata": {
    "collapsed": false
   }
  },
  {
   "cell_type": "code",
   "execution_count": 189,
   "outputs": [],
   "source": [
    "def transform_results(results_: pd.DataFrame) -> pd.DataFrame:\n",
    "    \"\"\"\n",
    "    Change accuracy and other metrics to two digits after a dot.\n",
    "    \"\"\"\n",
    "    results = results_.copy()\n",
    "    to_percents = [\"loss\", \"accuracy\", \"precision\", \"recall\", \"auc\", \"f1\"]\n",
    "    results[to_percents] = results[to_percents] * 100.\n",
    "\n",
    "    # change boolean columns\n",
    "    true_false_cols = [\"bidirectional1\", \"bidirectional2\", \"bidirectional3\", \"dropout1\", \"dropout2\", \"dropout3\",\n",
    "                       \"convolution_at_end\", \"if_block2\", \"if_block3\"]\n",
    "    results[true_false_cols] = results[true_false_cols].astype(\"boolean\")\n",
    "\n",
    "    #change int columns\n",
    "    int_columns = [\"dropout_rate1\", \"dropout_rate2\", \"dropout_rate3\", \"end_conv_kernel_size1\", \"end_conv_units1\",\n",
    "                   \"max_freq\", \"n_mfcc\", \"units1\", \"units2\", \"units3\"]\n",
    "    results[int_columns] = results[int_columns].astype(\"Int64\")\n",
    "\n",
    "    # map categorical data\n",
    "    frame_len_map = {0: 440, 1: 880}\n",
    "    window_type_map = {0: \"hann\", 1: \"hamming\", 2: \"triang\", 3: \"bartlett\", 4: \"tukey\", 5: \"lanczos\"}\n",
    "    hop_length_map = {0: 55, 1: 110, 2: 220, 3: 440}\n",
    "\n",
    "    results[\"frame_length\"] = results[\"frame_length\"].map(frame_len_map)\n",
    "    results[\"window_type\"] = results[\"window_type\"].map(window_type_map)\n",
    "    results[\"hop_length\"] = results[\"hop_length\"].map(hop_length_map)\n",
    "    return results\n",
    "\n"
   ],
   "metadata": {
    "collapsed": false
   }
  },
  {
   "cell_type": "code",
   "execution_count": 190,
   "outputs": [],
   "source": [
    "results_transformed = transform_results(results)"
   ],
   "metadata": {
    "collapsed": false
   }
  },
  {
   "cell_type": "code",
   "execution_count": 191,
   "outputs": [
    {
     "data": {
      "text/plain": "     bidirectional1  bidirectional2  bidirectional3  convolution_at_end  \\\n33             True            True            <NA>                True   \n39             True            True            <NA>                True   \n100           False            True            True                True   \n95            False            True            True                True   \n161            True            True            <NA>                True   \n..              ...             ...             ...                 ...   \n118            True            <NA>            <NA>                True   \n15            False           False           False               False   \n14             True           False            True               False   \n18             True           False           False               False   \n13             True            True            True               False   \n\n     dropout1  dropout2  dropout3  dropout_rate1  dropout_rate2  \\\n33      False      True      <NA>           <NA>             70   \n39      False      True      <NA>           <NA>             40   \n100     False      True      True           <NA>             70   \n95      False      True      True           <NA>             65   \n161     False      True      <NA>           <NA>             55   \n..        ...       ...       ...            ...            ...   \n118     False      <NA>      <NA>           <NA>           <NA>   \n15      False     False     False           <NA>           <NA>   \n14       True     False     False             60           <NA>   \n18       True      True      True             65             50   \n13       True      True     False             35             60   \n\n     dropout_rate3  ...   accuracy  precision     recall        auc       TP  \\\n33            <NA>  ...  96.992780  81.297834  78.226398  87.645195  1918.00   \n39            <NA>  ...  96.992813  82.543200  76.580828  87.736079  1872.50   \n100             65  ...  96.988216  82.516539  76.160802  86.843230  1867.50   \n95              40  ...  96.932738  81.398116  77.214620  87.414187  1893.50   \n161           <NA>  ...  96.971044  82.430269  76.237297  87.770909  1864.75   \n..             ...  ...        ...        ...        ...        ...      ...   \n118           <NA>  ...  95.332120  82.792588  48.175908  69.809668  2356.75   \n15            <NA>  ...  94.936129  79.565178  44.011235  63.459870  2151.75   \n14            <NA>  ...  93.873507  75.088209  27.949193  48.916290  1379.25   \n18              30  ...  93.894924  77.510369  26.588069  49.754348  1312.00   \n13            <NA>  ...  93.185329  70.069852  17.177412  37.950376   845.75   \n\n           TN      FP       FN         f1  status  \n33   29241.00  437.50   528.50  79.883382      ok  \n39   29286.50  392.00   574.00  79.494799      ok  \n100  29290.00  388.50   579.00  79.425837      ok  \n95   29246.25  432.25   553.00  79.354602      ok  \n161  29287.25  391.25   581.75  79.308878      ok  \n..        ...     ...      ...        ...     ...  \n118  59200.75  483.25  2530.50  60.998415      ok  \n15   58845.00  538.25  2715.00  56.949085      ok  \n14   59236.50  447.50  3508.00  41.085791      ok  \n18   59317.50  366.50  3575.25  39.964970      ok  \n13   59325.75  358.25  4041.50  27.769341      ok  \n\n[200 rows x 33 columns]",
      "text/html": "<div>\n<style scoped>\n    .dataframe tbody tr th:only-of-type {\n        vertical-align: middle;\n    }\n\n    .dataframe tbody tr th {\n        vertical-align: top;\n    }\n\n    .dataframe thead th {\n        text-align: right;\n    }\n</style>\n<table border=\"1\" class=\"dataframe\">\n  <thead>\n    <tr style=\"text-align: right;\">\n      <th></th>\n      <th>bidirectional1</th>\n      <th>bidirectional2</th>\n      <th>bidirectional3</th>\n      <th>convolution_at_end</th>\n      <th>dropout1</th>\n      <th>dropout2</th>\n      <th>dropout3</th>\n      <th>dropout_rate1</th>\n      <th>dropout_rate2</th>\n      <th>dropout_rate3</th>\n      <th>...</th>\n      <th>accuracy</th>\n      <th>precision</th>\n      <th>recall</th>\n      <th>auc</th>\n      <th>TP</th>\n      <th>TN</th>\n      <th>FP</th>\n      <th>FN</th>\n      <th>f1</th>\n      <th>status</th>\n    </tr>\n  </thead>\n  <tbody>\n    <tr>\n      <th>33</th>\n      <td>True</td>\n      <td>True</td>\n      <td>&lt;NA&gt;</td>\n      <td>True</td>\n      <td>False</td>\n      <td>True</td>\n      <td>&lt;NA&gt;</td>\n      <td>&lt;NA&gt;</td>\n      <td>70</td>\n      <td>&lt;NA&gt;</td>\n      <td>...</td>\n      <td>96.992780</td>\n      <td>81.297834</td>\n      <td>78.226398</td>\n      <td>87.645195</td>\n      <td>1918.00</td>\n      <td>29241.00</td>\n      <td>437.50</td>\n      <td>528.50</td>\n      <td>79.883382</td>\n      <td>ok</td>\n    </tr>\n    <tr>\n      <th>39</th>\n      <td>True</td>\n      <td>True</td>\n      <td>&lt;NA&gt;</td>\n      <td>True</td>\n      <td>False</td>\n      <td>True</td>\n      <td>&lt;NA&gt;</td>\n      <td>&lt;NA&gt;</td>\n      <td>40</td>\n      <td>&lt;NA&gt;</td>\n      <td>...</td>\n      <td>96.992813</td>\n      <td>82.543200</td>\n      <td>76.580828</td>\n      <td>87.736079</td>\n      <td>1872.50</td>\n      <td>29286.50</td>\n      <td>392.00</td>\n      <td>574.00</td>\n      <td>79.494799</td>\n      <td>ok</td>\n    </tr>\n    <tr>\n      <th>100</th>\n      <td>False</td>\n      <td>True</td>\n      <td>True</td>\n      <td>True</td>\n      <td>False</td>\n      <td>True</td>\n      <td>True</td>\n      <td>&lt;NA&gt;</td>\n      <td>70</td>\n      <td>65</td>\n      <td>...</td>\n      <td>96.988216</td>\n      <td>82.516539</td>\n      <td>76.160802</td>\n      <td>86.843230</td>\n      <td>1867.50</td>\n      <td>29290.00</td>\n      <td>388.50</td>\n      <td>579.00</td>\n      <td>79.425837</td>\n      <td>ok</td>\n    </tr>\n    <tr>\n      <th>95</th>\n      <td>False</td>\n      <td>True</td>\n      <td>True</td>\n      <td>True</td>\n      <td>False</td>\n      <td>True</td>\n      <td>True</td>\n      <td>&lt;NA&gt;</td>\n      <td>65</td>\n      <td>40</td>\n      <td>...</td>\n      <td>96.932738</td>\n      <td>81.398116</td>\n      <td>77.214620</td>\n      <td>87.414187</td>\n      <td>1893.50</td>\n      <td>29246.25</td>\n      <td>432.25</td>\n      <td>553.00</td>\n      <td>79.354602</td>\n      <td>ok</td>\n    </tr>\n    <tr>\n      <th>161</th>\n      <td>True</td>\n      <td>True</td>\n      <td>&lt;NA&gt;</td>\n      <td>True</td>\n      <td>False</td>\n      <td>True</td>\n      <td>&lt;NA&gt;</td>\n      <td>&lt;NA&gt;</td>\n      <td>55</td>\n      <td>&lt;NA&gt;</td>\n      <td>...</td>\n      <td>96.971044</td>\n      <td>82.430269</td>\n      <td>76.237297</td>\n      <td>87.770909</td>\n      <td>1864.75</td>\n      <td>29287.25</td>\n      <td>391.25</td>\n      <td>581.75</td>\n      <td>79.308878</td>\n      <td>ok</td>\n    </tr>\n    <tr>\n      <th>...</th>\n      <td>...</td>\n      <td>...</td>\n      <td>...</td>\n      <td>...</td>\n      <td>...</td>\n      <td>...</td>\n      <td>...</td>\n      <td>...</td>\n      <td>...</td>\n      <td>...</td>\n      <td>...</td>\n      <td>...</td>\n      <td>...</td>\n      <td>...</td>\n      <td>...</td>\n      <td>...</td>\n      <td>...</td>\n      <td>...</td>\n      <td>...</td>\n      <td>...</td>\n      <td>...</td>\n    </tr>\n    <tr>\n      <th>118</th>\n      <td>True</td>\n      <td>&lt;NA&gt;</td>\n      <td>&lt;NA&gt;</td>\n      <td>True</td>\n      <td>False</td>\n      <td>&lt;NA&gt;</td>\n      <td>&lt;NA&gt;</td>\n      <td>&lt;NA&gt;</td>\n      <td>&lt;NA&gt;</td>\n      <td>&lt;NA&gt;</td>\n      <td>...</td>\n      <td>95.332120</td>\n      <td>82.792588</td>\n      <td>48.175908</td>\n      <td>69.809668</td>\n      <td>2356.75</td>\n      <td>59200.75</td>\n      <td>483.25</td>\n      <td>2530.50</td>\n      <td>60.998415</td>\n      <td>ok</td>\n    </tr>\n    <tr>\n      <th>15</th>\n      <td>False</td>\n      <td>False</td>\n      <td>False</td>\n      <td>False</td>\n      <td>False</td>\n      <td>False</td>\n      <td>False</td>\n      <td>&lt;NA&gt;</td>\n      <td>&lt;NA&gt;</td>\n      <td>&lt;NA&gt;</td>\n      <td>...</td>\n      <td>94.936129</td>\n      <td>79.565178</td>\n      <td>44.011235</td>\n      <td>63.459870</td>\n      <td>2151.75</td>\n      <td>58845.00</td>\n      <td>538.25</td>\n      <td>2715.00</td>\n      <td>56.949085</td>\n      <td>ok</td>\n    </tr>\n    <tr>\n      <th>14</th>\n      <td>True</td>\n      <td>False</td>\n      <td>True</td>\n      <td>False</td>\n      <td>True</td>\n      <td>False</td>\n      <td>False</td>\n      <td>60</td>\n      <td>&lt;NA&gt;</td>\n      <td>&lt;NA&gt;</td>\n      <td>...</td>\n      <td>93.873507</td>\n      <td>75.088209</td>\n      <td>27.949193</td>\n      <td>48.916290</td>\n      <td>1379.25</td>\n      <td>59236.50</td>\n      <td>447.50</td>\n      <td>3508.00</td>\n      <td>41.085791</td>\n      <td>ok</td>\n    </tr>\n    <tr>\n      <th>18</th>\n      <td>True</td>\n      <td>False</td>\n      <td>False</td>\n      <td>False</td>\n      <td>True</td>\n      <td>True</td>\n      <td>True</td>\n      <td>65</td>\n      <td>50</td>\n      <td>30</td>\n      <td>...</td>\n      <td>93.894924</td>\n      <td>77.510369</td>\n      <td>26.588069</td>\n      <td>49.754348</td>\n      <td>1312.00</td>\n      <td>59317.50</td>\n      <td>366.50</td>\n      <td>3575.25</td>\n      <td>39.964970</td>\n      <td>ok</td>\n    </tr>\n    <tr>\n      <th>13</th>\n      <td>True</td>\n      <td>True</td>\n      <td>True</td>\n      <td>False</td>\n      <td>True</td>\n      <td>True</td>\n      <td>False</td>\n      <td>35</td>\n      <td>60</td>\n      <td>&lt;NA&gt;</td>\n      <td>...</td>\n      <td>93.185329</td>\n      <td>70.069852</td>\n      <td>17.177412</td>\n      <td>37.950376</td>\n      <td>845.75</td>\n      <td>59325.75</td>\n      <td>358.25</td>\n      <td>4041.50</td>\n      <td>27.769341</td>\n      <td>ok</td>\n    </tr>\n  </tbody>\n</table>\n<p>200 rows × 33 columns</p>\n</div>"
     },
     "execution_count": 191,
     "metadata": {},
     "output_type": "execute_result"
    }
   ],
   "source": [
    "results_transformed.sort_values(\"f1\", ascending=False)"
   ],
   "metadata": {
    "collapsed": false
   }
  },
  {
   "cell_type": "code",
   "execution_count": 192,
   "outputs": [],
   "source": [
    "results_transformed_reduced = results_transformed.sort_values(\"f1\", ascending=False).drop([\"status\", \"loss\"], axis=1)"
   ],
   "metadata": {
    "collapsed": false
   }
  },
  {
   "cell_type": "code",
   "execution_count": 193,
   "outputs": [],
   "source": [
    "rtr_sorted = results_transformed_reduced[\n",
    "    [\"units1\", \"bidirectional1\", \"dropout1\", \"dropout_rate1\", \"if_block2\", \"units2\", \"bidirectional2\", \"dropout2\",\n",
    "     \"dropout_rate2\", \"if_block3\", \"units3\", \"bidirectional3\", \"dropout3\", \"dropout_rate3\", \"convolution_at_end\",\n",
    "     \"end_conv_kernel_size1\", \"end_conv_units1\", \"n_mfcc\", \"max_freq\", \"frame_length\", \"hop_length\", \"window_type\",\n",
    "     \"f1\", \"precision\", \"recall\", \"auc\", \"accuracy\", \"TP\", \"TN\", \"FP\",\n",
    "     \"FN\"]]"
   ],
   "metadata": {
    "collapsed": false
   }
  },
  {
   "cell_type": "code",
   "execution_count": 194,
   "outputs": [
    {
     "data": {
      "text/plain": "     units1  bidirectional1  dropout1  dropout_rate1  if_block2  units2  \\\n33      128            True     False           <NA>       True     128   \n39      128            True     False           <NA>       True     128   \n100     192           False     False           <NA>       True     128   \n95      192           False     False           <NA>       True     128   \n161     256            True     False           <NA>       True      64   \n..      ...             ...       ...            ...        ...     ...   \n118      64            True     False           <NA>      False    <NA>   \n15      256           False     False           <NA>       True     128   \n14      256            True      True             60       True     128   \n18      128            True      True             65       True     128   \n13       64            True      True             35       True     192   \n\n     bidirectional2  dropout2  dropout_rate2  if_block3  ...  window_type  \\\n33             True      True             70      False  ...       triang   \n39             True      True             40      False  ...     bartlett   \n100            True      True             70       True  ...     bartlett   \n95             True      True             65       True  ...     bartlett   \n161            True      True             55      False  ...      hamming   \n..              ...       ...            ...        ...  ...          ...   \n118            <NA>      <NA>           <NA>       <NA>  ...      lanczos   \n15            False     False           <NA>       True  ...      lanczos   \n14            False     False           <NA>       True  ...         hann   \n18            False      True             50       True  ...       triang   \n13             True      True             60       True  ...        tukey   \n\n            f1  precision     recall        auc   accuracy       TP        TN  \\\n33   79.883382  81.297834  78.226398  87.645195  96.992780  1918.00  29241.00   \n39   79.494799  82.543200  76.580828  87.736079  96.992813  1872.50  29286.50   \n100  79.425837  82.516539  76.160802  86.843230  96.988216  1867.50  29290.00   \n95   79.354602  81.398116  77.214620  87.414187  96.932738  1893.50  29246.25   \n161  79.308878  82.430269  76.237297  87.770909  96.971044  1864.75  29287.25   \n..         ...        ...        ...        ...        ...      ...       ...   \n118  60.998415  82.792588  48.175908  69.809668  95.332120  2356.75  59200.75   \n15   56.949085  79.565178  44.011235  63.459870  94.936129  2151.75  58845.00   \n14   41.085791  75.088209  27.949193  48.916290  93.873507  1379.25  59236.50   \n18   39.964970  77.510369  26.588069  49.754348  93.894924  1312.00  59317.50   \n13   27.769341  70.069852  17.177412  37.950376  93.185329   845.75  59325.75   \n\n         FP       FN  \n33   437.50   528.50  \n39   392.00   574.00  \n100  388.50   579.00  \n95   432.25   553.00  \n161  391.25   581.75  \n..      ...      ...  \n118  483.25  2530.50  \n15   538.25  2715.00  \n14   447.50  3508.00  \n18   366.50  3575.25  \n13   358.25  4041.50  \n\n[200 rows x 31 columns]",
      "text/html": "<div>\n<style scoped>\n    .dataframe tbody tr th:only-of-type {\n        vertical-align: middle;\n    }\n\n    .dataframe tbody tr th {\n        vertical-align: top;\n    }\n\n    .dataframe thead th {\n        text-align: right;\n    }\n</style>\n<table border=\"1\" class=\"dataframe\">\n  <thead>\n    <tr style=\"text-align: right;\">\n      <th></th>\n      <th>units1</th>\n      <th>bidirectional1</th>\n      <th>dropout1</th>\n      <th>dropout_rate1</th>\n      <th>if_block2</th>\n      <th>units2</th>\n      <th>bidirectional2</th>\n      <th>dropout2</th>\n      <th>dropout_rate2</th>\n      <th>if_block3</th>\n      <th>...</th>\n      <th>window_type</th>\n      <th>f1</th>\n      <th>precision</th>\n      <th>recall</th>\n      <th>auc</th>\n      <th>accuracy</th>\n      <th>TP</th>\n      <th>TN</th>\n      <th>FP</th>\n      <th>FN</th>\n    </tr>\n  </thead>\n  <tbody>\n    <tr>\n      <th>33</th>\n      <td>128</td>\n      <td>True</td>\n      <td>False</td>\n      <td>&lt;NA&gt;</td>\n      <td>True</td>\n      <td>128</td>\n      <td>True</td>\n      <td>True</td>\n      <td>70</td>\n      <td>False</td>\n      <td>...</td>\n      <td>triang</td>\n      <td>79.883382</td>\n      <td>81.297834</td>\n      <td>78.226398</td>\n      <td>87.645195</td>\n      <td>96.992780</td>\n      <td>1918.00</td>\n      <td>29241.00</td>\n      <td>437.50</td>\n      <td>528.50</td>\n    </tr>\n    <tr>\n      <th>39</th>\n      <td>128</td>\n      <td>True</td>\n      <td>False</td>\n      <td>&lt;NA&gt;</td>\n      <td>True</td>\n      <td>128</td>\n      <td>True</td>\n      <td>True</td>\n      <td>40</td>\n      <td>False</td>\n      <td>...</td>\n      <td>bartlett</td>\n      <td>79.494799</td>\n      <td>82.543200</td>\n      <td>76.580828</td>\n      <td>87.736079</td>\n      <td>96.992813</td>\n      <td>1872.50</td>\n      <td>29286.50</td>\n      <td>392.00</td>\n      <td>574.00</td>\n    </tr>\n    <tr>\n      <th>100</th>\n      <td>192</td>\n      <td>False</td>\n      <td>False</td>\n      <td>&lt;NA&gt;</td>\n      <td>True</td>\n      <td>128</td>\n      <td>True</td>\n      <td>True</td>\n      <td>70</td>\n      <td>True</td>\n      <td>...</td>\n      <td>bartlett</td>\n      <td>79.425837</td>\n      <td>82.516539</td>\n      <td>76.160802</td>\n      <td>86.843230</td>\n      <td>96.988216</td>\n      <td>1867.50</td>\n      <td>29290.00</td>\n      <td>388.50</td>\n      <td>579.00</td>\n    </tr>\n    <tr>\n      <th>95</th>\n      <td>192</td>\n      <td>False</td>\n      <td>False</td>\n      <td>&lt;NA&gt;</td>\n      <td>True</td>\n      <td>128</td>\n      <td>True</td>\n      <td>True</td>\n      <td>65</td>\n      <td>True</td>\n      <td>...</td>\n      <td>bartlett</td>\n      <td>79.354602</td>\n      <td>81.398116</td>\n      <td>77.214620</td>\n      <td>87.414187</td>\n      <td>96.932738</td>\n      <td>1893.50</td>\n      <td>29246.25</td>\n      <td>432.25</td>\n      <td>553.00</td>\n    </tr>\n    <tr>\n      <th>161</th>\n      <td>256</td>\n      <td>True</td>\n      <td>False</td>\n      <td>&lt;NA&gt;</td>\n      <td>True</td>\n      <td>64</td>\n      <td>True</td>\n      <td>True</td>\n      <td>55</td>\n      <td>False</td>\n      <td>...</td>\n      <td>hamming</td>\n      <td>79.308878</td>\n      <td>82.430269</td>\n      <td>76.237297</td>\n      <td>87.770909</td>\n      <td>96.971044</td>\n      <td>1864.75</td>\n      <td>29287.25</td>\n      <td>391.25</td>\n      <td>581.75</td>\n    </tr>\n    <tr>\n      <th>...</th>\n      <td>...</td>\n      <td>...</td>\n      <td>...</td>\n      <td>...</td>\n      <td>...</td>\n      <td>...</td>\n      <td>...</td>\n      <td>...</td>\n      <td>...</td>\n      <td>...</td>\n      <td>...</td>\n      <td>...</td>\n      <td>...</td>\n      <td>...</td>\n      <td>...</td>\n      <td>...</td>\n      <td>...</td>\n      <td>...</td>\n      <td>...</td>\n      <td>...</td>\n      <td>...</td>\n    </tr>\n    <tr>\n      <th>118</th>\n      <td>64</td>\n      <td>True</td>\n      <td>False</td>\n      <td>&lt;NA&gt;</td>\n      <td>False</td>\n      <td>&lt;NA&gt;</td>\n      <td>&lt;NA&gt;</td>\n      <td>&lt;NA&gt;</td>\n      <td>&lt;NA&gt;</td>\n      <td>&lt;NA&gt;</td>\n      <td>...</td>\n      <td>lanczos</td>\n      <td>60.998415</td>\n      <td>82.792588</td>\n      <td>48.175908</td>\n      <td>69.809668</td>\n      <td>95.332120</td>\n      <td>2356.75</td>\n      <td>59200.75</td>\n      <td>483.25</td>\n      <td>2530.50</td>\n    </tr>\n    <tr>\n      <th>15</th>\n      <td>256</td>\n      <td>False</td>\n      <td>False</td>\n      <td>&lt;NA&gt;</td>\n      <td>True</td>\n      <td>128</td>\n      <td>False</td>\n      <td>False</td>\n      <td>&lt;NA&gt;</td>\n      <td>True</td>\n      <td>...</td>\n      <td>lanczos</td>\n      <td>56.949085</td>\n      <td>79.565178</td>\n      <td>44.011235</td>\n      <td>63.459870</td>\n      <td>94.936129</td>\n      <td>2151.75</td>\n      <td>58845.00</td>\n      <td>538.25</td>\n      <td>2715.00</td>\n    </tr>\n    <tr>\n      <th>14</th>\n      <td>256</td>\n      <td>True</td>\n      <td>True</td>\n      <td>60</td>\n      <td>True</td>\n      <td>128</td>\n      <td>False</td>\n      <td>False</td>\n      <td>&lt;NA&gt;</td>\n      <td>True</td>\n      <td>...</td>\n      <td>hann</td>\n      <td>41.085791</td>\n      <td>75.088209</td>\n      <td>27.949193</td>\n      <td>48.916290</td>\n      <td>93.873507</td>\n      <td>1379.25</td>\n      <td>59236.50</td>\n      <td>447.50</td>\n      <td>3508.00</td>\n    </tr>\n    <tr>\n      <th>18</th>\n      <td>128</td>\n      <td>True</td>\n      <td>True</td>\n      <td>65</td>\n      <td>True</td>\n      <td>128</td>\n      <td>False</td>\n      <td>True</td>\n      <td>50</td>\n      <td>True</td>\n      <td>...</td>\n      <td>triang</td>\n      <td>39.964970</td>\n      <td>77.510369</td>\n      <td>26.588069</td>\n      <td>49.754348</td>\n      <td>93.894924</td>\n      <td>1312.00</td>\n      <td>59317.50</td>\n      <td>366.50</td>\n      <td>3575.25</td>\n    </tr>\n    <tr>\n      <th>13</th>\n      <td>64</td>\n      <td>True</td>\n      <td>True</td>\n      <td>35</td>\n      <td>True</td>\n      <td>192</td>\n      <td>True</td>\n      <td>True</td>\n      <td>60</td>\n      <td>True</td>\n      <td>...</td>\n      <td>tukey</td>\n      <td>27.769341</td>\n      <td>70.069852</td>\n      <td>17.177412</td>\n      <td>37.950376</td>\n      <td>93.185329</td>\n      <td>845.75</td>\n      <td>59325.75</td>\n      <td>358.25</td>\n      <td>4041.50</td>\n    </tr>\n  </tbody>\n</table>\n<p>200 rows × 31 columns</p>\n</div>"
     },
     "execution_count": 194,
     "metadata": {},
     "output_type": "execute_result"
    }
   ],
   "source": [
    "rtr_sorted"
   ],
   "metadata": {
    "collapsed": false
   }
  },
  {
   "cell_type": "code",
   "execution_count": 195,
   "outputs": [
    {
     "data": {
      "text/plain": "0.9852586889499132"
     },
     "execution_count": 195,
     "metadata": {},
     "output_type": "execute_result"
    }
   ],
   "source": [
    "rtr_sorted.iloc[0][\"TN\"] / (rtr_sorted.iloc[0][\"TN\"] + rtr_sorted.iloc[0][\"FP\"])"
   ],
   "metadata": {
    "collapsed": false
   }
  },
  {
   "cell_type": "code",
   "execution_count": 196,
   "outputs": [],
   "source": [
    "rtr_sorted_all = rtr_sorted\n",
    "rtr_sorted = rtr_sorted[[\"units1\", \"bidirectional1\", \"dropout_rate1\", \"units2\", \"bidirectional2\",\n",
    "                         \"dropout_rate2\", \"units3\", \"bidirectional3\", \"dropout_rate3\",\n",
    "                         \"end_conv_kernel_size1\", \"end_conv_units1\", \"n_mfcc\", \"max_freq\", \"frame_length\", \"hop_length\",\n",
    "                         \"window_type\",\n",
    "                         \"f1\", \"precision\", \"recall\", \"auc\", \"accuracy\", \"TP\", \"TN\", \"FP\",\n",
    "                         \"FN\"]]"
   ],
   "metadata": {
    "collapsed": false
   }
  },
  {
   "cell_type": "code",
   "execution_count": 197,
   "outputs": [],
   "source": [
    "rtr_sorted.to_csv(\"./../results/converted_final_results.csv\", float_format=\"%.2f\")"
   ],
   "metadata": {
    "collapsed": false
   }
  },
  {
   "cell_type": "code",
   "execution_count": 198,
   "outputs": [],
   "source": [
    "#divide the data into performance results and architecture"
   ],
   "metadata": {
    "collapsed": false
   }
  },
  {
   "cell_type": "code",
   "execution_count": 199,
   "outputs": [],
   "source": [
    "rtr_sorted = rtr_sorted.reset_index(drop=True)"
   ],
   "metadata": {
    "collapsed": false
   }
  },
  {
   "cell_type": "code",
   "execution_count": 200,
   "outputs": [],
   "source": [
    "architecture_params = [\"units1\", \"bidirectional1\", \"dropout_rate1\", \"units2\", \"bidirectional2\",\n",
    "                       \"dropout_rate2\", \"units3\", \"bidirectional3\", \"dropout_rate3\",\n",
    "                       \"end_conv_kernel_size1\", \"end_conv_units1\"]\n",
    "feature_engineering_parameters = [\"n_mfcc\", \"max_freq\", \"frame_length\", \"hop_length\", \"window_type\"]\n",
    "metrics_params = [\"f1\", \"precision\", \"recall\", \"accuracy\", \"auc\", \"TP\", \"TN\", \"FP\", \"FN\"]"
   ],
   "metadata": {
    "collapsed": false
   }
  },
  {
   "cell_type": "code",
   "execution_count": 201,
   "outputs": [],
   "source": [
    "rtr_arch = rtr_sorted[architecture_params]\n",
    "rtr_arch.columns = [\"u1\", \"bd1\", \"dr1\", \"u2\", \"bd2\",\n",
    "                       \"dr2\", \"u3\", \"bd3\", \"dr3\",\n",
    "                       \"ck1\", \"cf1\"]\n",
    "rtr_arch.to_csv(\"./../results/converted_final_results_arch.csv\", float_format=\"%.2f\")"
   ],
   "metadata": {
    "collapsed": false
   }
  },
  {
   "cell_type": "code",
   "execution_count": 202,
   "outputs": [],
   "source": [
    "rtr_feature_engineering = rtr_sorted[feature_engineering_parameters]"
   ],
   "metadata": {
    "collapsed": false
   }
  },
  {
   "cell_type": "code",
   "execution_count": 203,
   "outputs": [],
   "source": [
    "rtr_feature_engineering.to_csv(\"./../results/converted_final_results_feature_engineering.csv\", float_format=\"%.2f\")"
   ],
   "metadata": {
    "collapsed": false
   }
  },
  {
   "cell_type": "code",
   "execution_count": 204,
   "outputs": [],
   "source": [
    "rtr_metrics = rtr_sorted[metrics_params]\n",
    "rtr_metrics.to_csv(\"./../results/converted_final_results_metrics.csv\", float_format=\"%.2f\")"
   ],
   "metadata": {
    "collapsed": false
   }
  },
  {
   "cell_type": "code",
   "execution_count": 205,
   "outputs": [
    {
     "data": {
      "text/plain": "<AxesSubplot:ylabel='Frequency'>"
     },
     "execution_count": 205,
     "metadata": {},
     "output_type": "execute_result"
    },
    {
     "data": {
      "text/plain": "<Figure size 1600x900 with 1 Axes>",
      "image/png": "[encoded data removed]"
     },
     "metadata": {},
     "output_type": "display_data"
    }
   ],
   "source": [
    "import matplotlib.pyplot as plt\n",
    "import seaborn as sns\n",
    "sns.set_theme()\n",
    "plt.figure(figsize=(16, 9))\n",
    "rtr_sorted.f1.plot.hist(ax=plt.gca())\n",
    "# rtr_sorted.accuracy.plot.hist(ax=plt.gca())\n",
    "# rtr_sorted.auc.plot.hist(ax=plt.gca())\n",
    "# rtr_sorted.precision.hist(ax=plt.gca())\n",
    "# rtr_sorted.recall.hist(ax=plt.gca())"
   ],
   "metadata": {
    "collapsed": false
   }
  },
  {
   "cell_type": "markdown",
   "source": [
    "## Analyze the best 25% of model"
   ],
   "metadata": {
    "collapsed": false
   }
  },
  {
   "cell_type": "code",
   "execution_count": 206,
   "outputs": [
    {
     "data": {
      "text/plain": "77.06748388537143"
     },
     "execution_count": 206,
     "metadata": {},
     "output_type": "execute_result"
    }
   ],
   "source": [
    "rtr_sorted.f1.median()"
   ],
   "metadata": {
    "collapsed": false
   }
  },
  {
   "cell_type": "code",
   "execution_count": 207,
   "outputs": [
    {
     "data": {
      "text/plain": "0.705"
     },
     "execution_count": 207,
     "metadata": {},
     "output_type": "execute_result"
    }
   ],
   "source": [
    "import numpy as np\n",
    "np.sum(rtr_sorted.f1 > 75.)/200"
   ],
   "metadata": {
    "collapsed": false
   }
  },
  {
   "cell_type": "code",
   "execution_count": 208,
   "outputs": [
    {
     "data": {
      "text/plain": "0"
     },
     "execution_count": 208,
     "metadata": {},
     "output_type": "execute_result"
    }
   ],
   "source": [
    "np.sum(rtr_sorted.recall > 80.)"
   ],
   "metadata": {
    "collapsed": false
   }
  },
  {
   "cell_type": "code",
   "execution_count": 209,
   "outputs": [
    {
     "data": {
      "text/plain": "20"
     },
     "execution_count": 209,
     "metadata": {},
     "output_type": "execute_result"
    }
   ],
   "source": [
    "np.sum((rtr_sorted.iloc[:20].bidirectional3 == True) | (rtr_sorted.iloc[:20].bidirectional2 == True) |  (rtr_sorted.iloc[:20].bidirectional1 == True))"
   ],
   "metadata": {
    "collapsed": false
   }
  },
  {
   "cell_type": "code",
   "execution_count": 211,
   "outputs": [
    {
     "data": {
      "text/plain": "20"
     },
     "execution_count": 211,
     "metadata": {},
     "output_type": "execute_result"
    }
   ],
   "source": [
    "np.sum(rtr_sorted_all.iloc[:20].convolution_at_end)"
   ],
   "metadata": {
    "collapsed": false
   }
  },
  {
   "cell_type": "code",
   "execution_count": null,
   "outputs": [],
   "source": [],
   "metadata": {
    "collapsed": false,
    "pycharm": {
     "is_executing": true
    }
   }
  },
  {
   "cell_type": "code",
   "execution_count": 183,
   "outputs": [],
   "source": [],
   "metadata": {
    "collapsed": false
   }
  }
 ],
 "metadata": {
  "kernelspec": {
   "name": "bowel",
   "language": "python",
   "display_name": "bowel"
  },
  "language_info": {
   "codemirror_mode": {
    "name": "ipython",
    "version": 2
   },
   "file_extension": ".py",
   "mimetype": "text/x-python",
   "name": "python",
   "nbconvert_exporter": "python",
   "pygments_lexer": "ipython2",
   "version": "2.7.6"
  }
 },
 "nbformat": 4,
 "nbformat_minor": 0
}
